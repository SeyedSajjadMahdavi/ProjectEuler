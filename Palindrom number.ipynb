{
 "cells": [
  {
   "cell_type": "code",
   "execution_count": 57,
   "id": "caf47af2",
   "metadata": {},
   "outputs": [],
   "source": [
    "def Is_Palindrom(number):\n",
    "    n=str(number).zfill(6)\n",
    "    if n[0]==n[5] and\\\n",
    "        n[1]==n[4] and\\\n",
    "        n[2]==n[3]:\n",
    "        return True\n",
    "    else:\n",
    "        return False"
   ]
  },
  {
   "cell_type": "code",
   "execution_count": 78,
   "id": "6b2c11d4",
   "metadata": {},
   "outputs": [
    {
     "name": "stdout",
     "output_type": "stream",
     "text": [
      "906609\n",
      "Running time is 0.32162 second\n"
     ]
    }
   ],
   "source": [
    "import time\n",
    "start=time.time()\n",
    "List=[]\n",
    "for i in range(999,100,-1):\n",
    "    for j in range(999,100,-1):\n",
    "        number=i*j\n",
    "        if Is_Palindrom(number):\n",
    "            List.append(number)\n",
    "            break\n",
    "print(max(List))\n",
    "end=time.time()\n",
    "print('Running time is %s second'% round(end-start, 5))"
   ]
  }
 ],
 "metadata": {
  "kernelspec": {
   "display_name": "Python 3 (ipykernel)",
   "language": "python",
   "name": "python3"
  },
  "language_info": {
   "codemirror_mode": {
    "name": "ipython",
    "version": 3
   },
   "file_extension": ".py",
   "mimetype": "text/x-python",
   "name": "python",
   "nbconvert_exporter": "python",
   "pygments_lexer": "ipython3",
   "version": "3.10.2"
  }
 },
 "nbformat": 4,
 "nbformat_minor": 5
}
